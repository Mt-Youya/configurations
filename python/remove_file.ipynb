{
 "cells": [
  {
   "cell_type": "code",
   "id": "initial_id",
   "metadata": {
    "collapsed": true,
    "ExecuteTime": {
     "end_time": "2025-06-30T07:27:33.425441Z",
     "start_time": "2025-06-30T07:27:33.418270Z"
    }
   },
   "source": [
    "\n",
    "import os\n",
    "import fnmatch\n",
    "\n",
    "def remove_files(root_path, includes, excludes):\n",
    "    \"\"\"\n",
    "    删除 root_path 下，匹配 includes 模式但不在 excludes 中的文件。\n",
    "    参数：\n",
    "      - root_path (str): 起始搜索路径\n",
    "      - includes (List[str]): shell-style 模式列表，如 ['*.tmp', '*.log']\n",
    "      - excludes (List[str]): 模式列表，优先级更高，如 ['important.log']\n",
    "    \"\"\"\n",
    "    for dirpath, dirnames, filenames in os.walk(root_path):\n",
    "        for name in filenames:\n",
    "            src = os.path.join(dirpath, name)\n",
    "            # 判断是否匹配 includes\n",
    "            matched_in = any(fnmatch.fnmatch(name, pat) for pat in includes)\n",
    "            if not matched_in:\n",
    "                continue\n",
    "            # 排除 excludes\n",
    "            matched_ex = any(fnmatch.fnmatch(name, pat) for pat in excludes)\n",
    "            if matched_ex:\n",
    "                print(f\"跳过（exclude匹配）：{src}\")\n",
    "                continue\n",
    "            # 执行删除\n",
    "            # print(f\"删除：{src}\")\n",
    "            os.remove(src)\n",
    "\n",
    "if __name__ == \"__main__\":\n",
    "    root = \"C:/Users/dd257/DownloadsSandbox\"\n",
    "    includes = [\"*.ts\"]\n",
    "    excludes = [\"*.wsb\"]\n",
    "\n",
    "    remove_files(root, includes, excludes)\n",
    "\n"
   ],
   "outputs": [],
   "execution_count": 3
  }
 ],
 "metadata": {
  "kernelspec": {
   "display_name": "Python 3",
   "language": "python",
   "name": "python3"
  },
  "language_info": {
   "codemirror_mode": {
    "name": "ipython",
    "version": 2
   },
   "file_extension": ".py",
   "mimetype": "text/x-python",
   "name": "python",
   "nbconvert_exporter": "python",
   "pygments_lexer": "ipython2",
   "version": "2.7.6"
  }
 },
 "nbformat": 4,
 "nbformat_minor": 5
}
