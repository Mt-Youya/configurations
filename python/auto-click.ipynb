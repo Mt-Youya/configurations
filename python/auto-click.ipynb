import pyautogui
import random
import time

x = 2000 
y = 900

a = 1, b = 999
interval = random.radient(a, b)

for i in range(click_count):
  pyautogui.click(x, y)
  time.sleep(interval)



while True:
  pyautogui.click(x, y)
  time.sleep(interval)
  
  
