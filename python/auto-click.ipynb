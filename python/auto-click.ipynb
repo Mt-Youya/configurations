{
 "cells": [
  {
   "cell_type": "code",
   "execution_count": null,
   "id": "initial_id",
   "metadata": {
    "collapsed": true
   },
   "outputs": [],
   "source": [
    "import pyautogui\n",
    "import random\n",
    "import time\n",
    "\n",
    "x = 2000\n",
    "y = 900\n",
    "\n",
    "# 设置点击间隔时间（秒）\n",
    "\n",
    "# 可选：设置点击次数，如果不限制可以使用 while True 循环\n",
    "click_count = 10\n",
    "\n",
    "# for i in range(click_count):\n",
    "#     # 模拟鼠标左键单击\n",
    "#     pyautogui.click(x,y)\n",
    "#     print(f\"已点击 {i+1} 次\")\n",
    "#     # 暂停指定的间隔时间\n",
    "#     time.sleep(interval)\n",
    "\n",
    "count = 0\n",
    "max_count = 3700\n",
    "# 如果想一直点击，可以使用下面的无限循环：\n",
    "while True:\n",
    "    pyautogui.click(x, y)\n",
    "    count += 1\n",
    "    # print(\"已点击\", count)\n",
    "    time.sleep(0.25 )\n",
    "    pyautogui.click(x, y)\n",
    "    if count >= max_count:\n",
    "        break\n"
   ]
  }
 ],
 "metadata": {
  "kernelspec": {
   "display_name": "Python 3",
   "language": "python",
   "name": "python3"
  },
  "language_info": {
   "codemirror_mode": {
    "name": "ipython",
    "version": 2
   },
   "file_extension": ".py",
   "mimetype": "text/x-python",
   "name": "python",
   "nbconvert_exporter": "python",
   "pygments_lexer": "ipython2",
   "version": "2.7.6"
  }
 },
 "nbformat": 4,
 "nbformat_minor": 5
}
