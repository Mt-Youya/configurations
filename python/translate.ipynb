{
 "cells": [
  {
   "cell_type": "code",
   "execution_count": null,
   "id": "initial_id",
   "metadata": {
    "collapsed": true
   },
   "outputs": [],
   "source": [
    "import pandas as pd\n",
    "import json\n",
    "import os\n",
    "\n",
    "# 获取桌面路径（Windows系统可能是 'C:\\\\Users\\\\用户名\\\\Desktop'）\n",
    "desktop_path = os.path.join(os.path.expanduser(\"~\"), \"Desktop\")\n",
    "\n",
    "# Excel 文件路径，请根据实际文件名修改\n",
    "excel_file = os.path.join(desktop_path, \"translate.xlsm\")\n",
    "\n",
    "# 读取 Excel 文件中所有的 Sheet，返回一个字典，键为 sheet 名称，值为对应的 DataFrame\n",
    "xls = pd.read_excel(excel_file, sheet_name=None)\n",
    "\n",
    "# 用于存储所有 Sheet 转换后的数据\n",
    "result_all = {}\n",
    "\n",
    "# 遍历所有 Sheet\n",
    "for sheet_name, df in xls.items():\n",
    "    sheet_result = {}\n",
    "    # 遍历每一行数据\n",
    "    for index, row in df.iterrows():\n",
    "        key = row.iloc[1]\n",
    "        value = row.iloc[2]\n",
    "        sheet_result[key] = value\n",
    "    # 将当前 Sheet 的结果存入总字典中\n",
    "    result_all[sheet_name] = sheet_result\n",
    "\n",
    "# 保存所有 Sheet 的数据到 JSON 文件（中文内容正常显示）\n",
    "json_file = os.path.join(desktop_path, \"translate.json\")\n",
    "with open(json_file, 'w', encoding='utf-8') as f:\n",
    "    json.dump(result_all, f, ensure_ascii=False, indent=4)\n",
    "\n",
    "print(\"JSON 文件已保存到：\", json_file)\n"
   ]
  },
  {
   "metadata": {
    "ExecuteTime": {
     "end_time": "2025-03-18T03:28:29.573549Z",
     "start_time": "2025-03-18T03:28:29.518193Z"
    }
   },
   "cell_type": "code",
   "source": [
    "import pandas as pd\n",
    "import json\n",
    "import os\n",
    "\n",
    "def set_nested(dic, dotted_key, value):\n",
    "    \"\"\"\n",
    "    根据点分隔的 key 设置嵌套字典的值。\n",
    "    例如：dotted_key 为 \"home\" 或 \"menu.item\"，会自动生成相应的嵌套结构。\n",
    "    \"\"\"\n",
    "    keys = dotted_key.split('.')\n",
    "    d = dic\n",
    "    for key in keys[:-1]:\n",
    "        if key not in d:\n",
    "            d[key] = {}\n",
    "        d = d[key]\n",
    "    d[keys[-1]] = value\n",
    "\n",
    "# Excel 文件路径（请确认文件路径是否正确）\n",
    "excel_file = \"C:/Users/Yonjay/Desktop/translate.xlsm\"\n",
    "\n",
    "# 读取 Excel 文件中所有的 Sheet，返回一个字典，键为 Sheet 名称，值为对应的 DataFrame\n",
    "sheets = pd.read_excel(excel_file, sheet_name=None)\n",
    "\n",
    "# 定义存储所有英文和中文翻译的字典\n",
    "en_translations = {}\n",
    "zh_translations = {}\n",
    "\n",
    "# 遍历所有 Sheet\n",
    "for sheet_name, df in sheets.items():\n",
    "    # 创建当前 Sheet 对应的子字典\n",
    "    en_sub = {}\n",
    "    zh_sub = {}\n",
    "    # 遍历每一行，假设：\n",
    "    # 第一列：翻译 key，第二列：中文，第三列：英文\n",
    "    for idx, row in df.iterrows():\n",
    "        # 如果 key 为空，则跳过该行\n",
    "        key = row.iloc[0]\n",
    "        if pd.isna(key):\n",
    "            continue\n",
    "        key = str(key).strip()\n",
    "        if not key:\n",
    "            continue\n",
    "        # 获取中文和英文翻译内容\n",
    "        chinese = row.iloc[1] if len(row) > 1 else \"\"\n",
    "        english = row.iloc[2] if len(row) > 2 else \"\"\n",
    "        if pd.isna(chinese):\n",
    "            chinese = \"\"\n",
    "        if pd.isna(english):\n",
    "            english = \"\"\n",
    "        # 如果 key 中本身包含点号，则会被拆分为嵌套结构\n",
    "        set_nested(en_sub, key, english)\n",
    "        set_nested(zh_sub, key, chinese)\n",
    "    # 如果该 Sheet 有数据，则将其以 Sheet 名作为顶层 key 存入总字典中\n",
    "    if en_sub:\n",
    "        en_translations[sheet_name] = en_sub\n",
    "    if zh_sub:\n",
    "        zh_translations[sheet_name] = zh_sub\n",
    "\n",
    "# 输出 JSON 文件路径，可以根据需要调整保存位置\n",
    "output_dir = os.path.dirname(excel_file)\n",
    "en_json_file = os.path.join(output_dir, \"en.json\")\n",
    "zh_json_file = os.path.join(output_dir, \"zh.json\")\n",
    "\n",
    "# 保存英文 JSON 文件\n",
    "with open(en_json_file, \"w\", encoding=\"utf-8\") as f:\n",
    "    json.dump(en_translations, f, ensure_ascii=False, indent=4)\n",
    "\n",
    "# 保存中文 JSON 文件\n",
    "with open(zh_json_file, \"w\", encoding=\"utf-8\") as f:\n",
    "    json.dump(zh_translations, f, ensure_ascii=False, indent=4)\n",
    "\n",
    "print(\"英文翻译文件已生成：\", en_json_file)\n",
    "print(\"中文翻译文件已生成：\", zh_json_file)\n"
   ],
   "id": "300405c7d72e95c2",
   "outputs": [
    {
     "name": "stdout",
     "output_type": "stream",
     "text": [
      "英文翻译文件已生成： C:/Users/Yonjay/Desktop\\en.json\n",
      "中文翻译文件已生成： C:/Users/Yonjay/Desktop\\zh.json\n"
     ]
    }
   ],
   "execution_count": 3
  }
 ],
 "metadata": {
  "kernelspec": {
   "display_name": "Python 3",
   "language": "python",
   "name": "python3"
  },
  "language_info": {
   "codemirror_mode": {
    "name": "ipython",
    "version": 2
   },
   "file_extension": ".py",
   "mimetype": "text/x-python",
   "name": "python",
   "nbconvert_exporter": "python",
   "pygments_lexer": "ipython2",
   "version": "2.7.6"
  }
 },
 "nbformat": 4,
 "nbformat_minor": 5
}
