{
 "cells": [
  {
   "cell_type": "code",
   "id": "initial_id",
   "metadata": {
    "collapsed": true,
    "ExecuteTime": {
     "end_time": "2025-06-29T10:12:01.392575Z",
     "start_time": "2025-06-29T10:12:01.372640Z"
    }
   },
   "source": [
    "# merge_srt_no_space.py\n",
    "import re\n",
    "import os\n",
    "\n",
    "def merge_srt_multilines(filename):\n",
    "    with open(filename, 'r', encoding='utf-8') as f:\n",
    "        content = f.read()\n",
    "\n",
    "    # 按至少两个换行符分割为块\n",
    "    blocks = re.split(r'\\n{2,}', content.strip())\n",
    "\n",
    "    merged_blocks = []\n",
    "    for block in blocks:\n",
    "        lines = block.splitlines()\n",
    "        if len(lines) >= 3:\n",
    "            seq = lines[0]\n",
    "            timing = lines[1]\n",
    "            # 直接将第三行及之后所有字幕内容合并，去除换行，不添加空格\n",
    "            text = \"\".join(line.strip() for line in lines[2:])\n",
    "            merged_blocks.append(f\"{seq}\\n{timing}\\n{text}\")\n",
    "        else:\n",
    "            merged_blocks.append(block)\n",
    "\n",
    "    new_content = '\\n\\n'.join(merged_blocks) + '\\n'\n",
    "    with open(filename, 'w', encoding='utf-8') as f:\n",
    "        f.write(new_content)\n",
    "\n",
    "if __name__ == '__main__':\n",
    "    for fname in os.listdir('.'):\n",
    "        if fname.lower().endswith('.srt'):\n",
    "            print(f\"Processing: {fname}\")\n",
    "            merge_srt_multilines(fname)\n",
    "    print(\"处理完成 ✅\")\n"
   ],
   "outputs": [
    {
     "name": "stdout",
     "output_type": "stream",
     "text": [
      "Processing: [Chinese Simplified] CS50 2D - Lecture 7 - Pokemon (live, unedited) [DownSub.com].srt\n",
      "Processing: [English (auto-generated)] CS50 2D - Lecture 7 - Pokemon (live, unedited) [DownSub.com].srt\n",
      "处理完成 ✅\n"
     ]
    }
   ],
   "execution_count": 3
  }
 ],
 "metadata": {
  "kernelspec": {
   "display_name": "Python 3",
   "language": "python",
   "name": "python3"
  },
  "language_info": {
   "codemirror_mode": {
    "name": "ipython",
    "version": 2
   },
   "file_extension": ".py",
   "mimetype": "text/x-python",
   "name": "python",
   "nbconvert_exporter": "python",
   "pygments_lexer": "ipython2",
   "version": "2.7.6"
  }
 },
 "nbformat": 4,
 "nbformat_minor": 5
}
